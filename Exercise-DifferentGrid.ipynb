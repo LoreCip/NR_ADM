{
 "cells": [
  {
   "cell_type": "code",
   "execution_count": 1,
   "id": "3db2dc94-ae64-4793-ba28-930e21348e21",
   "metadata": {},
   "outputs": [],
   "source": [
    "import numpy as np\n",
    "import matplotlib.pyplot as plt\n",
    "\n",
    "import json"
   ]
  },
  {
   "cell_type": "markdown",
   "id": "90e43e80-f39a-44bd-b320-3ec41f5ca085",
   "metadata": {},
   "source": [
    "# Concepts\n",
    "Since I am in a spherically symmetric spacetime, I can fix the angles to arbitrary values and forget them. So I only need to keep track of the radius. The 3D problem is effectively reduced to a 1D one!!! Radial differenciation is then reduced to simply the derivative along the array.\n",
    "\n",
    "W.r.t. the eqs (3) in the reference, the variables are named as follows:\n",
    "    $$ A \\rightarrow \\tilde{A} $$\n",
    "    $$ B \\rightarrow \\tilde{B} $$\n",
    "    $$ D_A \\rightarrow \\tilde{D}_A $$\n",
    "    $$ D_B \\rightarrow \\tilde{D}_B $$"
   ]
  },
  {
   "cell_type": "code",
   "execution_count": 2,
   "id": "536e0257-5da5-4c7b-bfd2-680170a53273",
   "metadata": {},
   "outputs": [],
   "source": [
    "class Fields():\n",
    "    \n",
    "    def __init__(self, R = 1, N = 11, M = 1):\n",
    "        # Domain is a sphere of radius R\n",
    "        self.Rmax = R\n",
    "        self.N    = N\n",
    "        \n",
    "        self.dR  = R / N\n",
    "    \n",
    "        self.r = np.array([(j - 0.5)*self.dR for j in range(1,N+1)], dtype = np.float64)\n",
    "\n",
    "        self.A   = np.zeros(N)\n",
    "        self.B   = np.zeros(N)\n",
    "        self.DA  = np.zeros(N)\n",
    "        self.DB  = np.zeros(N)\n",
    "        self.KA  = np.zeros(N)\n",
    "        self.KB  = np.zeros(N)\n",
    "        self.Dal = np.zeros(N)\n",
    "        self.al  = np.zeros(N)\n",
    "        \n",
    "        self.psi = 1 + 0.5 * M / self.r\n",
    "        \n",
    "    def IC_geodesicSlicing(self):\n",
    "        \"\"\"\n",
    "        Geodesic Slicing gauge condition.\n",
    "                A = B = 1\n",
    "                DA = DB = 0\n",
    "                KA = KB = 0\n",
    "                alpha = 1 = costant\n",
    "        \"\"\"\n",
    "        self.A  = np.ones(self.N)\n",
    "        self.B  = np.ones(self.N)\n",
    "        \n",
    "        self.al = np.ones(self.N)\n",
    "        \n",
    "    def a_symmetryCond(self):\n",
    "        self.A  [0] = self.A  [1]\n",
    "        self.B  [0] = self.B  [1]\n",
    "        self.DA [0] = -self.DA [1]\n",
    "        self.DB [0] = -self.DB [1]\n",
    "        self.KA [0] = self.KA [1]\n",
    "        self.KB [0] = self.KB [1]\n",
    "        \n",
    "    def BC_Dirichlet(self):\n",
    "        self.A[-1] = 1\n",
    "        self.B[-1] = 1\n",
    "        \n",
    "        self.DA[-1] = 0\n",
    "        self.DB[-1] = 0"
   ]
  },
  {
   "cell_type": "code",
   "execution_count": 3,
   "id": "3dc559ce-27ec-4c84-9eec-d56145e53ed9",
   "metadata": {},
   "outputs": [],
   "source": [
    "def der_r(f, i, dR):\n",
    "    if i == 0:\n",
    "        # Forward\n",
    "        return 0.5 * (- 3 * f[0] + 4 * f[1] - f[2]) / dR\n",
    "    elif i == len(f)-1:\n",
    "        # Backward\n",
    "        return 0.5 * (3 * f[-1] - 4 * f[-2] + f[-3]) / dR\n",
    "    else:\n",
    "        # Central\n",
    "        return 0.5 * (f[i+1] - f[i-1]) / dR\n",
    "    \n",
    "def sec_der_r(f, i, dR):\n",
    "    if i == 0:\n",
    "        # Forward\n",
    "        return (2 * f[0] - 5 * f[1] + 4 * f[2] - f[3]) / dR**3\n",
    "    elif i == len(f)-1:\n",
    "        # Backward\n",
    "        return (2 * f[-1] -5 * f[-2] + 4 * f[-3] - f[-4]) / dR**3\n",
    "    else:\n",
    "        # Central\n",
    "        return (f[i+1] - 2 * f[i] + f[i-1]) / dR**2"
   ]
  },
  {
   "cell_type": "code",
   "execution_count": 4,
   "id": "1b898ed7-fb99-4e14-9ffa-a4b3ab5205a3",
   "metadata": {},
   "outputs": [],
   "source": [
    "def ev_A(field, i):\n",
    "    \"\"\"\n",
    "    field :: class object containing all the fields (self in Fields class)\n",
    "    i,j,k   :: position in the grid\n",
    "    \"\"\"\n",
    "    return - 2 * field.al[i] * field.A[i] * field.KA[i]\n",
    "\n",
    "def ev_B(field, i):\n",
    "    \"\"\"\n",
    "    field :: class object containing all the fields (self in Fields class)\n",
    "    i,j,k   :: position in the grid\n",
    "    \"\"\"\n",
    "    return - 2 * field.al[i] * field.B[i] * field.KB[i]\n",
    "\n",
    "def ev_DA(field, i):\n",
    "    \"\"\"\n",
    "    field :: class object containing all the fields (self in Fields class)\n",
    "    i,j,k   :: position in the grid\n",
    "    \"\"\"\n",
    "    p1 = field.KA[i] * field.Dal[i]\n",
    "    p2 = der_r(field.KA, i, field.dR)\n",
    "    return - 2 * field.al[i] * (p1 + p2)\n",
    "\n",
    "def ev_DB(field, i):\n",
    "    \"\"\"\n",
    "    field :: class object containing all the fields (self in Fields class)\n",
    "    i,j,k   :: position in the grid\n",
    "    \"\"\"\n",
    "    p1 = field.KB[i] * field.Dal[i]\n",
    "    p2 = der_r(field.KB, i, field.dR)\n",
    "    return - 2 * field.al[i] * (p1 + p2)\n",
    "\n",
    "\n",
    "def ev_KA(field, i):\n",
    "    \"\"\"\n",
    "    field :: class object containing all the fields (self in Fields class)\n",
    "    i,j,k   :: position in the grid\n",
    "    \"\"\"\n",
    "    r = field.r[i]\n",
    "    \n",
    "    p1 = der_r(field.Dal + field.DB, i, field.dR)\n",
    "    p2 = field.Dal[i]**2 + 0.5 * (field.Dal[i] * field.DA[i] + field.DB[i]**2 - field.DA[i] * field.DB[i])\n",
    "    p3 = - field.A[i] * field.KA[i] * (field.KA[i] + 2*field.KB[i]) * field.psi[i]**4\n",
    "    p4 = - (field.DA[i] - 2 * field.DB[i]) / r\n",
    "    p5 = 4 * sec_der_r(np.log(field.psi), i, field.dR) + der_r(np.log(field.psi), i, field.dR) * (2 * field.DB[i] - 2 * field.DA[i] - 2 * field.Dal[i]  + 4 / r)\n",
    "    return - field.al[i] * (p1 + p2 + p3 + p4 + p5) / (field.A[i] * field.psi[i]**4)\n",
    "    \n",
    "def ev_KB(field, i):\n",
    "    \"\"\"\n",
    "    field :: class object containing all the fields (self in Fields class)\n",
    "    i,j,k   :: position in the grid\n",
    "    \"\"\"\n",
    "    r = field.r[i]\n",
    "    \n",
    "    p1 = der_r(field.DB, i, field.dR)\n",
    "    p2 = field.Dal[i] * field.DB[i] + field.DB[i]**2 - 0.5 * field.DA[i] * field.DB[i]\n",
    "    p3 = - (field.DA[i] - 2 * field.Dal[i] - 4 * field.DB[i]) / r\n",
    "    p4 = - 2 * (field.A[i] - field.B[i]) / (field.B[i] * r**2)\n",
    "    p5 = 4 * sec_der_r(np.log(field.psi), i, field.dR) + der_r(field.psi, i, field.dR) * (8*der_r(field.psi, i, field.dR) + 4*field.Dal[i] + 6*field.DB[i] -2*field.DA[i] + 12 / r)\n",
    "    p6 = field.al[i] * field.KB[i] * (field.KA[i] + 2*field.KB[i])\n",
    "    return - 0.5 * field.al[i] * (p1 + p2 + p3 + p4 + p5) / field.A[i] + p6\n",
    "    "
   ]
  },
  {
   "cell_type": "code",
   "execution_count": 25,
   "id": "dac5e527-16f9-4194-bbd8-564dafa904dd",
   "metadata": {},
   "outputs": [],
   "source": [
    "import h5py"
   ]
  },
  {
   "cell_type": "code",
   "execution_count": 77,
   "id": "0c3e77ad-8099-48cf-bbb9-212087bf2ca8",
   "metadata": {},
   "outputs": [],
   "source": [
    "dt = 0.01\n",
    "t = 0\n",
    "N = 100\n",
    "\n",
    "h5f = h5py.File('results.h5', 'w')\n",
    "sss = f'Each dataset contains the following variables:\\n \\\n",
    "\\tA\\n\\\n",
    "\\tB\\n\\\n",
    "\\tD_A\\n\\\n",
    "\\tD_B\\n\\\n",
    "\\tK_A\\n\\\n",
    "\\tK_B\\n\\\n",
    "\\tD_alpha\\n\\\n",
    "\\talpha\\n\\\n",
    "\\nThe name of the dataset is the index of the time step (e.g. \"i\" is the first computation, at t = i*dt)\\n\\\n",
    "Parameters:\\n\\\n",
    "\\tN = {N} (number of points in the radial direction)\\n\\\n",
    "\\tdt = {dt} (timestep used)\\\n",
    "'\n",
    "h5f.attrs['Info']  = sss\n",
    "\n",
    "fields = Fields(R = 1, N = N)\n",
    "fields.IC_geodesicSlicing()\n",
    "\n",
    "results = np.zeros((8, N))\n",
    "\n",
    "for j in range(10):\n",
    "    t += dt\n",
    "    \n",
    "    fields.a_symmetryCond()\n",
    "    fields.BC_Dirichlet()\n",
    "    for i in range(N):\n",
    "\n",
    "        results[0,i] = fields.A [i] + dt * ev_A (fields, i) #  A_new  \n",
    "        results[1,i] = fields.B [i] + dt * ev_B (fields, i) #  B_new \n",
    "        results[2,i] = fields.DA[i] + dt * ev_DA(fields, i) #  DA_new\n",
    "        results[3,i] = fields.DB[i] + dt * ev_DB(fields, i) #  DB_new \n",
    "        results[4,i] = fields.KA[i] + dt * ev_KA(fields, i) #  KA_new \n",
    "        results[5,i] = fields.KB[i] + dt * ev_KB(fields, i) #  KB_new \n",
    "        results[6,i] = fields.al[i]                         #  Dal_new\n",
    "        results[7,i] = fields.Dal[i]                        #  al_new\n",
    "    \n",
    "    h5f.create_dataset(f'{j}', data=results, compression = 9)\n",
    "    \n",
    "    fields.A  = np.copy(results[0,:])\n",
    "    fields.B  = np.copy(results[1,:])\n",
    "    fields.DA = np.copy(results[2,:])\n",
    "    fields.DB = np.copy(results[3,:])\n",
    "    fields.KA = np.copy(results[4,:])\n",
    "    fields.KB = np.copy(results[5,:])\n",
    "    \n",
    "h5f.close() \n",
    "    \n",
    "    "
   ]
  },
  {
   "cell_type": "code",
   "execution_count": 61,
   "id": "f532824b-a407-4f73-b120-565ff12e7a7c",
   "metadata": {},
   "outputs": [
    {
     "data": {
      "text/plain": [
       "array([1., 1., 1., 1., 1., 1., 1., 1., 1., 1.])"
      ]
     },
     "execution_count": 61,
     "metadata": {},
     "output_type": "execute_result"
    }
   ],
   "source": [
    "fields.A"
   ]
  },
  {
   "cell_type": "code",
   "execution_count": null,
   "id": "154231e5-b3df-4e51-b511-5806923ee05a",
   "metadata": {},
   "outputs": [],
   "source": []
  },
  {
   "cell_type": "code",
   "execution_count": 62,
   "id": "04d201aa-3ec9-4836-98e4-607c6cac6de7",
   "metadata": {},
   "outputs": [],
   "source": [
    "aaa = h5py.File('results.h5','r')"
   ]
  },
  {
   "cell_type": "code",
   "execution_count": 63,
   "id": "f9a4e48c-85a7-47d5-935b-eca939c84226",
   "metadata": {},
   "outputs": [
    {
     "data": {
      "text/plain": [
       "[<HDF5 dataset \"t0\": shape (8, 10), type \"<f8\">,\n",
       " <HDF5 dataset \"t1\": shape (8, 10), type \"<f8\">]"
      ]
     },
     "execution_count": 63,
     "metadata": {},
     "output_type": "execute_result"
    }
   ],
   "source": [
    "list(aaa.values())"
   ]
  },
  {
   "cell_type": "code",
   "execution_count": 67,
   "id": "04eca2e1-3284-4fe1-b044-730cfe68848e",
   "metadata": {},
   "outputs": [
    {
     "data": {
      "text/plain": [
       "['Info']"
      ]
     },
     "execution_count": 67,
     "metadata": {},
     "output_type": "execute_result"
    }
   ],
   "source": [
    "list(aaa.attrs)"
   ]
  },
  {
   "cell_type": "code",
   "execution_count": 76,
   "id": "87214c32-de8f-447d-8c69-1baded4eda85",
   "metadata": {},
   "outputs": [
    {
     "data": {
      "text/plain": [
       "'Each dataset contains the following variables:\\n \\tA\\n\\tB\\n\\tD_A\\n\\tD_B\\n\\tK_A\\n\\tK_B\\n\\tD_alpha\\n\\talpha\\n\\nThe name of the dataset is the index of the time step (e.g. \"i\" is the first computation, at t = i*dt)\\nParameters:\\n\\tN = 10 (number of points in the radial direction)\\n\\tdt = 0.01 (timestep used)'"
      ]
     },
     "execution_count": 76,
     "metadata": {},
     "output_type": "execute_result"
    }
   ],
   "source": [
    "aaa.attrs['Info']"
   ]
  },
  {
   "cell_type": "code",
   "execution_count": 72,
   "id": "b35b5915-80c2-4a37-90a0-d0d77fa0edf4",
   "metadata": {},
   "outputs": [
    {
     "data": {
      "text/plain": [
       "[array([1., 1., 1., 1., 1., 1., 1., 1., 1., 1.]),\n",
       " array([2., 2., 2., 2., 2., 2., 2., 2., 2., 2.]),\n",
       " array([3., 3., 3., 3., 3., 3., 3., 3., 3., 3.]),\n",
       " array([4., 4., 4., 4., 4., 4., 4., 4., 4., 4.]),\n",
       " array([5., 5., 5., 5., 5., 5., 5., 5., 5., 5.]),\n",
       " array([6., 6., 6., 6., 6., 6., 6., 6., 6., 6.]),\n",
       " array([7., 7., 7., 7., 7., 7., 7., 7., 7., 7.]),\n",
       " array([8., 8., 8., 8., 8., 8., 8., 8., 8., 8.])]"
      ]
     },
     "execution_count": 72,
     "metadata": {},
     "output_type": "execute_result"
    }
   ],
   "source": [
    "list(aaa['t0'])"
   ]
  },
  {
   "cell_type": "code",
   "execution_count": null,
   "id": "7e8c4708-0188-4892-a836-aecb37021848",
   "metadata": {},
   "outputs": [],
   "source": []
  }
 ],
 "metadata": {
  "kernelspec": {
   "display_name": "Python 3 (ipykernel)",
   "language": "python",
   "name": "python3"
  },
  "language_info": {
   "codemirror_mode": {
    "name": "ipython",
    "version": 3
   },
   "file_extension": ".py",
   "mimetype": "text/x-python",
   "name": "python",
   "nbconvert_exporter": "python",
   "pygments_lexer": "ipython3",
   "version": "3.10.6"
  }
 },
 "nbformat": 4,
 "nbformat_minor": 5
}
