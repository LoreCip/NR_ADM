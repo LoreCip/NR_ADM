{
 "cells": [
  {
   "cell_type": "code",
   "execution_count": 1,
   "id": "34aaae66-666d-44cf-abea-0a7a8eecfb32",
   "metadata": {},
   "outputs": [],
   "source": [
    "import numpy as np\n",
    "import matplotlib.pyplot as plt\n",
    "\n",
    "from scipy.optimize import curve_fit\n",
    "\n",
    "%matplotlib inline"
   ]
  },
  {
   "cell_type": "code",
   "execution_count": 2,
   "id": "f61dd5e2-cd5e-4235-8ab5-41ef287f4f00",
   "metadata": {},
   "outputs": [],
   "source": [
    "its = [10, 100, 200, 500, 800, 1000]\n",
    "t200 = [2.3773, 24.0442, 48.1184, 119.3785, 191.6063, 240.1759]\n",
    "t100 = [0.5362, 4.8651, 9.9104, 24.6169, 39.5803, 49.261]"
   ]
  },
  {
   "cell_type": "code",
   "execution_count": 5,
   "id": "43eddf74-c733-428b-b3c0-ed7448c1a32f",
   "metadata": {},
   "outputs": [
    {
     "name": "stderr",
     "output_type": "stream",
     "text": [
      "/home/lorenzo/.local/lib/python3.10/site-packages/scipy/optimize/_minpack_py.py:833: OptimizeWarning: Covariance of the parameters could not be estimated\n",
      "  warnings.warn('Covariance of the parameters could not be estimated',\n"
     ]
    },
    {
     "data": {
      "text/plain": [
       "[<matplotlib.lines.Line2D at 0x7f0e9c0f0b80>]"
      ]
     },
     "execution_count": 5,
     "metadata": {},
     "output_type": "execute_result"
    },
    {
     "data": {
      "image/png": "[encoded data removed]",
      "text/plain": [
       "<Figure size 432x288 with 1 Axes>"
      ]
     },
     "metadata": {
      "needs_background": "light"
     },
     "output_type": "display_data"
    }
   ],
   "source": [
    "def f(x, a, b,c):\n",
    "    return c*x\n",
    "\n",
    "\n",
    "popt, _ = curve_fit(f, its, t200)\n",
    "\n",
    "fig = plt.figure\n",
    "plt.plot(its,t200, 'kx')\n",
    "plt.plot(np.linspace(0,1100,1100), f(np.linspace(0,1100,1100), *popt))"
   ]
  },
  {
   "cell_type": "code",
   "execution_count": null,
   "id": "2d80b706-043c-4982-b0a0-a92d36afdced",
   "metadata": {},
   "outputs": [],
   "source": []
  },
  {
   "cell_type": "code",
   "execution_count": 12,
   "id": "1785111e-c955-4a21-b911-3ce586eac474",
   "metadata": {},
   "outputs": [],
   "source": [
    "def mod_2d(it,N, a, b, c, d):\n",
    "    return (a*N**3 + b*N**2 + c*N) * d * it"
   ]
  },
  {
   "cell_type": "code",
   "execution_count": null,
   "id": "1c8c53e5-5537-4c1b-9783-028a01b3974d",
   "metadata": {},
   "outputs": [],
   "source": []
  }
 ],
 "metadata": {
  "kernelspec": {
   "display_name": "Python 3 (ipykernel)",
   "language": "python",
   "name": "python3"
  },
  "language_info": {
   "codemirror_mode": {
    "name": "ipython",
    "version": 3
   },
   "file_extension": ".py",
   "mimetype": "text/x-python",
   "name": "python",
   "nbconvert_exporter": "python",
   "pygments_lexer": "ipython3",
   "version": "3.10.6"
  }
 },
 "nbformat": 4,
 "nbformat_minor": 5
}
