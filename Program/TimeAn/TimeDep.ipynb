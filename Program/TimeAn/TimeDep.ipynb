{
 "cells": [
  {
   "cell_type": "code",
   "execution_count": 1,
   "id": "dc3d6761-e9fe-459c-a685-2222ec228116",
   "metadata": {},
   "outputs": [],
   "source": [
    "import numpy as np\n",
    "import matplotlib.pyplot as plt\n",
    "\n",
    "from scipy.optimize import curve_fit\n",
    "\n",
    "%matplotlib inline"
   ]
  },
  {
   "cell_type": "code",
   "execution_count": 17,
   "id": "93a7b2b3-07d5-43b1-8807-e3f956d31d42",
   "metadata": {},
   "outputs": [],
   "source": [
    "N = [10, 50, 100, 200, 300, 400, 500, 600, 700]\n",
    "t = [0.0729, 0.1153, 0.5661, 23.8781, 77.2924, 178.6266, 345.0603, 590.5285, 931.562]\n",
    "\n",
    "\n",
    "\n",
    "data = [ []                ]"
   ]
  },
  {
   "cell_type": "code",
   "execution_count": 21,
   "id": "56826ec2-1b3d-4022-825e-670a0d196d93",
   "metadata": {},
   "outputs": [
    {
     "data": {
      "text/plain": [
       "[<matplotlib.lines.Line2D at 0x7fe62299bee0>]"
      ]
     },
     "execution_count": 21,
     "metadata": {},
     "output_type": "execute_result"
    },
    {
     "data": {
      "image/png": "[encoded data removed]",
      "text/plain": [
       "<Figure size 432x288 with 1 Axes>"
      ]
     },
     "metadata": {
      "needs_background": "light"
     },
     "output_type": "display_data"
    }
   ],
   "source": [
    "def f(x, a, b,c):\n",
    "    return a*x*x*x + b*x*x + c*x\n",
    "\n",
    "\n",
    "popt, _ = curve_fit(f, N, t)\n",
    "\n",
    "fig = plt.figure\n",
    "plt.plot(N,t, 'kx')\n",
    "plt.plot(np.linspace(0,700,700), f(np.linspace(0,700,700), *popt))"
   ]
  },
  {
   "cell_type": "code",
   "execution_count": 22,
   "id": "243426ba-01c5-44c7-9cc5-a29f68424ef6",
   "metadata": {},
   "outputs": [
    {
     "data": {
      "text/plain": [
       "array([ 2.56185155e-06,  1.25968829e-04, -1.30440042e-02])"
      ]
     },
     "execution_count": 22,
     "metadata": {},
     "output_type": "execute_result"
    }
   ],
   "source": [
    "popt"
   ]
  },
  {
   "cell_type": "code",
   "execution_count": null,
   "id": "bbd6ca89-472f-4389-ba69-64f1be3844ba",
   "metadata": {},
   "outputs": [],
   "source": []
  }
 ],
 "metadata": {
  "kernelspec": {
   "display_name": "Python 3 (ipykernel)",
   "language": "python",
   "name": "python3"
  },
  "language_info": {
   "codemirror_mode": {
    "name": "ipython",
    "version": 3
   },
   "file_extension": ".py",
   "mimetype": "text/x-python",
   "name": "python",
   "nbconvert_exporter": "python",
   "pygments_lexer": "ipython3",
   "version": "3.10.6"
  }
 },
 "nbformat": 4,
 "nbformat_minor": 5
}
