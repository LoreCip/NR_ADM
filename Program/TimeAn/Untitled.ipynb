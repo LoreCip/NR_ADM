{
 "cells": [
  {
   "cell_type": "code",
   "execution_count": 3,
   "id": "b9bb83e9-a252-4bef-9d52-bbdf400bfd4e",
   "metadata": {},
   "outputs": [],
   "source": [
    "import numpy as np\n",
    "import matplotlib.pyplot as plt\n",
    "\n",
    "r = np.array([(j-0.5)*0.025 for j in range(1, 100)])\n",
    "psi = 1 + 1 / 4 / r\n",
    "logpsi = np.log(psi)"
   ]
  },
  {
   "cell_type": "code",
   "execution_count": 4,
   "id": "f4a39a20-8495-4ef9-8a0c-7293f7a2c68a",
   "metadata": {},
   "outputs": [
    {
     "data": {
      "text/plain": [
       "[<matplotlib.lines.Line2D at 0x7fd8768329b0>]"
      ]
     },
     "execution_count": 4,
     "metadata": {},
     "output_type": "execute_result"
    },
    {
     "data": {
      "image/png": "[encoded data removed]",
      "text/plain": [
       "<Figure size 432x288 with 1 Axes>"
      ]
     },
     "metadata": {
      "needs_background": "light"
     },
     "output_type": "display_data"
    }
   ],
   "source": [
    "fig = plt.figure()\n",
    "plt.plot(r, psi, 'k')\n",
    "plt.plot(r, logpsi, 'r')"
   ]
  },
  {
   "cell_type": "code",
   "execution_count": null,
   "id": "33d0f09f-e7f2-41e7-837f-90c0b867d35e",
   "metadata": {},
   "outputs": [],
   "source": []
  }
 ],
 "metadata": {
  "kernelspec": {
   "display_name": "Python 3 (ipykernel)",
   "language": "python",
   "name": "python3"
  },
  "language_info": {
   "codemirror_mode": {
    "name": "ipython",
    "version": 3
   },
   "file_extension": ".py",
   "mimetype": "text/x-python",
   "name": "python",
   "nbconvert_exporter": "python",
   "pygments_lexer": "ipython3",
   "version": "3.10.6"
  }
 },
 "nbformat": 4,
 "nbformat_minor": 5
}
