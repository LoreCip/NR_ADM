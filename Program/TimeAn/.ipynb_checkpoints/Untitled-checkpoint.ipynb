{
 "cells": [
  {
   "cell_type": "code",
   "execution_count": 2,
   "id": "b9bb83e9-a252-4bef-9d52-bbdf400bfd4e",
   "metadata": {},
   "outputs": [
    {
     "name": "stderr",
     "output_type": "stream",
     "text": [
      "/tmp/ipykernel_320/3827392718.py:6: RuntimeWarning: invalid value encountered in log\n",
      "  logpsi = np.log(psi)\n"
     ]
    }
   ],
   "source": [
    "import numpy as np\n",
    "import matplotlib.pyplot as plt\n",
    "\n",
    "r = np.array([(j-0.5)*0.025 for j in range(1, 100)])\n",
    "psi = 1 + 1 / 4 / r\n",
    "logpsi = np.log(psi)"
   ]
  },
  {
   "cell_type": "code",
   "execution_count": null,
   "id": "f4a39a20-8495-4ef9-8a0c-7293f7a2c68a",
   "metadata": {},
   "outputs": [],
   "source": []
  }
 ],
 "metadata": {
  "kernelspec": {
   "display_name": "Python 3 (ipykernel)",
   "language": "python",
   "name": "python3"
  },
  "language_info": {
   "codemirror_mode": {
    "name": "ipython",
    "version": 3
   },
   "file_extension": ".py",
   "mimetype": "text/x-python",
   "name": "python",
   "nbconvert_exporter": "python",
   "pygments_lexer": "ipython3",
   "version": "3.10.6"
  }
 },
 "nbformat": 4,
 "nbformat_minor": 5
}
