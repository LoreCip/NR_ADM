{
 "cells": [
  {
   "cell_type": "code",
   "execution_count": 9,
   "id": "d4d04c0a-7ef1-40df-b5a5-7f24252e3a1f",
   "metadata": {},
   "outputs": [],
   "source": [
    "import numpy as np\n",
    "import matplotlib.pyplot as plt\n",
    "from scipy.optimize import curve_fit\n",
    "\n",
    "import h5py"
   ]
  },
  {
   "cell_type": "code",
   "execution_count": 58,
   "id": "176aeac6-bd25-42e5-8d86-f3530e19c5ad",
   "metadata": {},
   "outputs": [],
   "source": [
    "horizons = np.zeros(6)\n",
    "Ns = [100,200,300,400,500,600]\n",
    "\n",
    "for i,n in enumerate(Ns):\n",
    "    name = f'N{n}_R2.5_t200.h5'\n",
    "    dataH5 = h5py.File(name)\n",
    "    \n",
    "    horizons[i] = dataH5['Horizon'][1,1]\n",
    "    \n",
    "    "
   ]
  },
  {
   "cell_type": "code",
   "execution_count": 62,
   "id": "1482e307-ace0-437e-9315-913b8c4e3967",
   "metadata": {},
   "outputs": [],
   "source": [
    "def f(x, a, b, c):\n",
    "    return b/(x**a) + c\n",
    "\n",
    "popt, _ = curve_fit(f, Ns, horizons)\n",
    "\n",
    "nn = np.linspace(10,700,700)"
   ]
  },
  {
   "cell_type": "code",
   "execution_count": null,
   "id": "787396c2-697e-44bc-b710-dc1ea53e012e",
   "metadata": {},
   "outputs": [
    {
     "data": {
      "image/png": "[encoded data removed]",
      "text/plain": [
       "<Figure size 432x288 with 1 Axes>"
      ]
     },
     "metadata": {
      "needs_background": "light"
     },
     "output_type": "display_data"
    }
   ],
   "source": [
    "fig = plt.figure()\n",
    "plt.plot(Ns, horizons, 'ko')\n",
    "plt.plot(nn, f(nn, *popt))\n",
    "plt.ylim(0,0.015)\n",
    "\n",
    "plt.title(rf'$x\\rightarrow \\infty : r_h = {popt[2]}$');"
   ]
  },
  {
   "cell_type": "code",
   "execution_count": 70,
   "id": "0e6cdfd7-bee7-458d-92db-34b7fad24281",
   "metadata": {},
   "outputs": [
    {
     "data": {
      "text/plain": [
       "array([1.00576650e+00, 1.29868570e+00, 1.51603875e-05])"
      ]
     },
     "execution_count": 70,
     "metadata": {},
     "output_type": "execute_result"
    }
   ],
   "source": [
    "popt"
   ]
  },
  {
   "cell_type": "code",
   "execution_count": 57,
   "id": "8c521f95-e460-4a8b-a582-4a266dfe8521",
   "metadata": {},
   "outputs": [
    {
     "name": "stdout",
     "output_type": "stream",
     "text": [
      "4123.08593225155\n"
     ]
    }
   ],
   "source": [
    "rh = popt[2]\n",
    "Rs = rh * (1 + 1 / 4 / rh)**2\n",
    "print(Rs)"
   ]
  },
  {
   "cell_type": "code",
   "execution_count": null,
   "id": "96ef3f2f-f111-4541-a62e-e2f27d786668",
   "metadata": {},
   "outputs": [],
   "source": []
  }
 ],
 "metadata": {
  "kernelspec": {
   "display_name": "Python 3 (ipykernel)",
   "language": "python",
   "name": "python3"
  },
  "language_info": {
   "codemirror_mode": {
    "name": "ipython",
    "version": 3
   },
   "file_extension": ".py",
   "mimetype": "text/x-python",
   "name": "python",
   "nbconvert_exporter": "python",
   "pygments_lexer": "ipython3",
   "version": "3.10.6"
  }
 },
 "nbformat": 4,
 "nbformat_minor": 5
}
